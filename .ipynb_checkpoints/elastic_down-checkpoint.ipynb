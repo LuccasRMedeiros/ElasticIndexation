{
 "cells": [
  {
   "cell_type": "code",
   "execution_count": 1,
   "metadata": {},
   "outputs": [],
   "source": [
    "from elasticsearch import Elasticsearch"
   ]
  },
  {
   "cell_type": "code",
   "execution_count": 2,
   "metadata": {},
   "outputs": [],
   "source": [
    "es = Elasticsearch(HOST=\"http://localhost\", PORT=\"9200\")"
   ]
  },
  {
   "cell_type": "code",
   "execution_count": 3,
   "metadata": {},
   "outputs": [
    {
     "name": "stdout",
     "output_type": "stream",
     "text": [
      "Connection succesfully stablished\n"
     ]
    }
   ],
   "source": [
    "if es.ping():\n",
    "    print(\"Connection succesfully stablished\")\n",
    "else:\n",
    "    print(\"Couldn't connect to the Elasticsearch server\")"
   ]
  },
  {
   "cell_type": "code",
   "execution_count": 4,
   "metadata": {},
   "outputs": [
    {
     "name": "stdout",
     "output_type": "stream",
     "text": [
      "Deleting index 'drugs'\n",
      "Concluded\n"
     ]
    }
   ],
   "source": [
    "if es.indices.exists(\"drugs\"):\n",
    "    print(\"Deleting index 'drugs'\")\n",
    "    es.indices.delete(index=\"drugs\")\n",
    "    print(\"Concluded\")\n",
    "else:\n",
    "    print(\"Index 'drugs' not found\")"
   ]
  },
  {
   "cell_type": "code",
   "execution_count": null,
   "metadata": {},
   "outputs": [],
   "source": []
  }
 ],
 "metadata": {
  "kernelspec": {
   "display_name": "Python 3",
   "language": "python",
   "name": "python3"
  },
  "language_info": {
   "codemirror_mode": {
    "name": "ipython",
    "version": 3
   },
   "file_extension": ".py",
   "mimetype": "text/x-python",
   "name": "python",
   "nbconvert_exporter": "python",
   "pygments_lexer": "ipython3",
   "version": "3.8.3"
  }
 },
 "nbformat": 4,
 "nbformat_minor": 4
}
