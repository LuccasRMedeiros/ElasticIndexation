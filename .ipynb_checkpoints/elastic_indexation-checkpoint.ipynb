{
 "cells": [
  {
   "cell_type": "code",
   "execution_count": 1,
   "metadata": {},
   "outputs": [],
   "source": [
    "from elasticsearch import Elasticsearch\n",
    "import json\n",
    "import pandas as pd"
   ]
  },
  {
   "cell_type": "code",
   "execution_count": 2,
   "metadata": {},
   "outputs": [],
   "source": [
    "ds = pd.ExcelFile(\"xls_conformidade_site_2020_10_v1.xls\")\n",
    "df = ds.parse(sheet_name=0,skiprows=41)\n",
    "df = df.drop(['CÓDIGO GGREM', 'REGISTRO', 'EAN 1', 'EAN 2', 'EAN 3','CAP','CONFAZ 87', 'ANÁLISE RECURSAL'], axis=1)\n",
    "totalrow = df.shape[0]"
   ]
  },
  {
   "cell_type": "code",
   "execution_count": 3,
   "metadata": {},
   "outputs": [
    {
     "name": "stdout",
     "output_type": "stream",
     "text": [
      "Changing columns names\n",
      "Names were changed\n"
     ]
    }
   ],
   "source": [
    "print(\"Changing columns names\")\n",
    "df.columns = [\n",
    "    \"substance\",\n",
    "    \"cnpj\",\n",
    "    \"lab\",\n",
    "    \"product\",\n",
    "    \"presentation\",\n",
    "    \"class\",\n",
    "    \"type\",\n",
    "    \"price_regim\",\n",
    "    \"fabricprice_no_tax\",\n",
    "    \"fabricprice_less_than_1%_tax\",\n",
    "    \"fabricprice_12%_tax\",\n",
    "    \"fabricprice_17%_tax\",\n",
    "    \"fabricprice_17%ALC_tax\",\n",
    "    \"fabricprice_17.5%_tax\",\n",
    "    \"fabricprice_17.5%ALC_tax\",\n",
    "    \"fabricprice_18%_tax\",\n",
    "    \"fabricprice_18%ALC_tax\",\n",
    "    \"fabricprice_20%_tax\",\n",
    "    \"marketprice_less_than_1%_tax\",\n",
    "    \"marketprice_12%_tax\",\n",
    "    \"marketprice_17%_tax\",\n",
    "    \"marketprice_17%ALC_tax\",\n",
    "    \"marketprice_17.5%_tax\",\n",
    "    \"marketprice_17.5%ALC_tax\",\n",
    "    \"marketprice_18%_tax\",\n",
    "    \"marketprice_18%ALC_tax\",\n",
    "    \"marketprice_20%_tax\",\n",
    "    \"restriction\",\n",
    "    \"icms_no_tax\",\n",
    "    \"tribute_credit\",\n",
    "    \"comercialization_last_year\",\n",
    "    \"label\"\n",
    "]\n",
    "print(\"Names were changed\")"
   ]
  },
  {
   "cell_type": "code",
   "execution_count": 4,
   "metadata": {},
   "outputs": [
    {
     "name": "stdout",
     "output_type": "stream",
     "text": [
      "Formating cells data for properly fit in the document\n",
      "Completed 1 of 19 columns\n",
      "Completed 2 of 19 columns\n",
      "Completed 3 of 19 columns\n",
      "Completed 4 of 19 columns\n",
      "Completed 5 of 19 columns\n",
      "Completed 6 of 19 columns\n",
      "Completed 7 of 19 columns\n",
      "Completed 8 of 19 columns\n",
      "Completed 9 of 19 columns\n",
      "Completed 10 of 19 columns\n",
      "Completed 11 of 19 columns\n",
      "Completed 12 of 19 columns\n",
      "Completed 13 of 19 columns\n",
      "Completed 14 of 19 columns\n",
      "Completed 15 of 19 columns\n",
      "Completed 16 of 19 columns\n",
      "Completed 17 of 19 columns\n",
      "Completed 18 of 19 columns\n",
      "Completed 19 of 19 columns\n",
      "Concluded\n"
     ]
    }
   ],
   "source": [
    "print(\"Formating cells data for properly fit in the document\")\n",
    "for col in range(8, 27):\n",
    "    for row in df.axes[0]:\n",
    "        if type(df.iloc[row, col]) == str:\n",
    "            df.iloc[row, col] = df.iloc[row, col].replace(',', '.')\n",
    "            df.iloc[row, col] = float(df.iloc[row, col])\n",
    "            print(f'Row: {row}', end='\\r')\n",
    "    \n",
    "    df.iloc[:,:col] = df.iloc[:,:col].fillna(0)\n",
    "    print(f'Completed {col - 7} of {27 - 8} columns')\n",
    "\n",
    "print(\"Concluded\")"
   ]
  },
  {
   "cell_type": "code",
   "execution_count": null,
   "metadata": {},
   "outputs": [],
   "source": [
    "df.head(30)"
   ]
  },
  {
   "cell_type": "code",
   "execution_count": 6,
   "metadata": {},
   "outputs": [],
   "source": [
    "es = Elasticsearch(HOST=\"http://localhost\", PORT=\"9200\")"
   ]
  },
  {
   "cell_type": "code",
   "execution_count": 7,
   "metadata": {},
   "outputs": [
    {
     "name": "stdout",
     "output_type": "stream",
     "text": [
      "Connection succesfully established\n"
     ]
    }
   ],
   "source": [
    "if es.ping():\n",
    "    print('Connection succesfully established')\n",
    "else:\n",
    "    print(\"Couldn't connect to the Elasticsearch server\")"
   ]
  },
  {
   "cell_type": "code",
   "execution_count": 8,
   "metadata": {},
   "outputs": [],
   "source": [
    "def create_or_modify_index(indexname, settings):\n",
    "    try:\n",
    "        if not es.indices.exists(indexname):\n",
    "            print(f\"Index '{indexname}' doesn't exists\")\n",
    "            print(f\"Creating new index '{indexname}'\")\n",
    "        \n",
    "            es.indices.create(index=indexname, body=settings)\n",
    "            print(f\"'{indexname}' was succesfuly created\")\n",
    "        else:\n",
    "            print(f\"'{indexname} already exists\")\n",
    "    except Exception as ex:\n",
    "        print(str(ex))"
   ]
  },
  {
   "cell_type": "code",
   "execution_count": 9,
   "metadata": {},
   "outputs": [
    {
     "name": "stdout",
     "output_type": "stream",
     "text": [
      "'drugs already exists\n"
     ]
    }
   ],
   "source": [
    "settings = {\n",
    "            \"settings\" : {\n",
    "                \"number_of_shards\" : 10,\n",
    "                \"number_of_replicas\" : 1\n",
    "            },\n",
    "            \"mappings\" : {\n",
    "                \"properties\" : {\n",
    "                    \"substance\" : {\n",
    "                        \"type\" : \"text\"\n",
    "                    },\n",
    "                    \"cnpj\" : {\n",
    "                        \"type\" : \"text\"\n",
    "                    },\n",
    "                    \"lab\" : {\n",
    "                        \"type\" : \"text\"\n",
    "                    },\n",
    "                    \"product\" : {\n",
    "                        \"type\" : \"text\"\n",
    "                    },\n",
    "                    \"presentation\" : {\n",
    "                        \"type\" : \"text\"\n",
    "                    },\n",
    "                    \"class\" : {\n",
    "                        \"type\" : \"text\"\n",
    "                    },\n",
    "                    \"type\" : {\n",
    "                        \"type\" : \"text\"\n",
    "                    },\n",
    "                    \"price_regim\" : {\n",
    "                        \"type\" : \"text\"\n",
    "                    },\n",
    "                    \"fabricprice_no_tax\" : {\n",
    "                        \"type\" : \"float\"\n",
    "                    },\n",
    "                    \"fabricprice_less_than_1%_tax\" : {\n",
    "                        \"type\" : \"float\"\n",
    "                    },\n",
    "                    \"fabricprice_12%_tax\" : {\n",
    "                        \"type\" : \"float\"\n",
    "                    },\n",
    "                    \"fabricprice_17%_tax\" : {\n",
    "                        \"type\" : \"float\"\n",
    "                    },\n",
    "                    \"fabricprice_17%ALC_tax\" : {\n",
    "                        \"type\" : \"float\"\n",
    "                    },\n",
    "                    \"fabricprice_17.5%_tax\" : {\n",
    "                        \"type\" : \"float\"\n",
    "                    },\n",
    "                    \"fabricprice_17.5%ALC_tax\" : {\n",
    "                        \"type\" : \"float\"\n",
    "                    },\n",
    "                    \"fabricprice_18%_tax\" : {\n",
    "                        \"type\" : \"float\"\n",
    "                    },\n",
    "                    \"fabricprice_18%ALC_tax\" : {\n",
    "                        \"type\" : \"float\"\n",
    "                    },\n",
    "                    \"fabricprice_20%_tax\" : {\n",
    "                        \"type\" : \"float\"\n",
    "                    },\n",
    "                    \"marketprice_less_than_1%_tax\" : {\n",
    "                        \"type\" : \"float\"\n",
    "                    },\n",
    "                    \"marketprice_12%_tax\" : {\n",
    "                        \"type\" : \"float\"\n",
    "                    },\n",
    "                    \"marketprice_17%_tax\" : {\n",
    "                        \"type\" : \"float\"\n",
    "                    },\n",
    "                    \"marketprice_17%ALC_tax\" : {\n",
    "                        \"type\" : \"float\"\n",
    "                    },\n",
    "                    \"marketprice_17.5%_tax\" : {\n",
    "                        \"type\" : \"float\"\n",
    "                    },\n",
    "                    \"marketprice_17.5%ALC_tax\" : {\n",
    "                        \"type\" : \"float\"\n",
    "                    },\n",
    "                    \"marketprice_18%_tax\" : {\n",
    "                        \"type\" : \"float\"\n",
    "                    },\n",
    "                    \"marketprice_18%ALC_tax\" : {\n",
    "                        \"type\" : \"float\"\n",
    "                    },\n",
    "                    \"marketprice_20%_tax\" : {\n",
    "                        \"type\" : \"float\"\n",
    "                    },\n",
    "                    \"restriction\" : {\n",
    "                        \"type\" : \"text\"\n",
    "                    },\n",
    "                    \"icms_no_tax\" : {\n",
    "                        \"type\" : \"text\"\n",
    "                    },\n",
    "                    \"tribute_credit\" : {\n",
    "                        \"type\" : \"text\"\n",
    "                    },\n",
    "                    \"comercialization_last_year\" : {\n",
    "                        \"type\" : \"text\"\n",
    "                    },\n",
    "                    \"label\" : {\n",
    "                        \"type\" : \"text\"\n",
    "                    }\n",
    "                }\n",
    "            }\n",
    "        }\n",
    "\n",
    "indexname = \"drugs\"\n",
    "\n",
    "create_or_modify_index(indexname, settings)"
   ]
  },
  {
   "cell_type": "code",
   "execution_count": 10,
   "metadata": {},
   "outputs": [],
   "source": [
    "def create_data_container(indexname):\n",
    "    print(\"Initiating indexation\")\n",
    "    for row in df.axes[0]:\n",
    "        doc = {}\n",
    "        column_count = 0\n",
    "        \n",
    "        for col in df.columns:\n",
    "            doc[col] = df.iloc[row, column_count]\n",
    "            column_count += 1\n",
    "            \n",
    "        doc = json.dumps(doc)\n",
    "        try:\n",
    "            es.index(index=indexname, id=1, body=doc)\n",
    "            print(f'{row/totalrow*100:.1f}%', end='\\r')\n",
    "        except Exception:\n",
    "            print(f'Problematic document in line: {row}')\n",
    "            print(doc)\n",
    "            break\n",
    "            \n",
    "    print(\"Concluded\")"
   ]
  },
  {
   "cell_type": "code",
   "execution_count": 11,
   "metadata": {},
   "outputs": [
    {
     "name": "stdout",
     "output_type": "stream",
     "text": [
      "Initiating indexation\n",
      "Concluded\n",
      "Concluded\n",
      "Concluded\n",
      "Problematic document in line: 3\n",
      "{\"substance\": \"ABATACEPTE\", \"cnpj\": \"56.998.982/0001-07\", \"lab\": \"BRISTOL-MYERS SQUIBB FARMAC\\u00caUTICA LTDA\", \"product\": \"ORENCIA\", \"presentation\": \"250 MG PO LIOF INJ 1 CT 1 FA + SER DESCART\\u00c1VEL\", \"class\": \"M1C - AGENTES ANTI-REUM\\u00c1TICOS ESPEC\\u00cdFICOS\", \"type\": \"Biol\\u00f3gico\", \"price_regim\": \"Regulado\", \"fabricprice_no_tax\": 1547.45, \"fabricprice_less_than_1%_tax\": 1547.45, \"fabricprice_12%_tax\": 1758.47, \"fabricprice_17%_tax\": 1864.4, \"fabricprice_17%ALC_tax\": 1864.4, \"fabricprice_17.5%_tax\": 1875.7, \"fabricprice_17.5%ALC_tax\": 1875.7, \"fabricprice_18%_tax\": 1887.13, \"fabricprice_18%ALC_tax\": 1887.13, \"fabricprice_20%_tax\": 1934.31, \"marketprice_less_than_1%_tax\": 0.0, \"marketprice_12%_tax\": 0.0, \"marketprice_17%_tax\": 0.0, \"marketprice_17%ALC_tax\": 0.0, \"marketprice_17.5%_tax\": 0.0, \"marketprice_17.5%ALC_tax\": 0.0, \"marketprice_18%_tax\": 0.0, \"marketprice_18%ALC_tax\": 0.0, \"marketprice_20%_tax\": NaN, \"restriction\": \"Sim\", \"icms_no_tax\": \"N\\u00e3o\", \"tribute_credit\": \"Positiva\", \"comercialization_last_year\": \"Sim\", \"label\": \"Tarja Vermelha\"}\n"
     ]
    }
   ],
   "source": [
    "create_data_container(\"drugs\")"
   ]
  },
  {
   "cell_type": "code",
   "execution_count": null,
   "metadata": {},
   "outputs": [],
   "source": []
  }
 ],
 "metadata": {
  "kernelspec": {
   "display_name": "Python 3",
   "language": "python",
   "name": "python3"
  },
  "language_info": {
   "codemirror_mode": {
    "name": "ipython",
    "version": 3
   },
   "file_extension": ".py",
   "mimetype": "text/x-python",
   "name": "python",
   "nbconvert_exporter": "python",
   "pygments_lexer": "ipython3",
   "version": "3.8.3"
  }
 },
 "nbformat": 4,
 "nbformat_minor": 4
}
